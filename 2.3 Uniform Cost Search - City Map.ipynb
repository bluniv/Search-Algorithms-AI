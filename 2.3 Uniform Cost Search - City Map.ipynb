{
 "cells": [
  {
   "cell_type": "code",
   "execution_count": 1,
   "id": "4848f930",
   "metadata": {},
   "outputs": [
    {
     "name": "stdout",
     "output_type": "stream",
     "text": [
      "Requirement already satisfied: geopy in c:\\anaconda\\lib\\site-packages (2.4.1)\n",
      "Requirement already satisfied: geographiclib<3,>=1.52 in c:\\anaconda\\lib\\site-packages (from geopy) (2.0)\n"
     ]
    }
   ],
   "source": [
    "!pip install geopy"
   ]
  },
  {
   "cell_type": "code",
   "execution_count": 2,
   "id": "8db0ccfa",
   "metadata": {},
   "outputs": [
    {
     "name": "stdout",
     "output_type": "stream",
     "text": [
      "{'nodes': {'Churchgate', 'Dadar'}, 'edges': {'Churchgate': [], 'Dadar': []}}\n",
      "[18.9354797, 72.8271741] [19.019282, 72.8428757]\n",
      "9.42\n",
      "{'nodes': {'CST', 'Churchgate', 'Dadar'}, 'edges': {'Churchgate': [('Dadar', 9.42)], 'Dadar': [('Churchgate', 9.42)], 'CST': []}}\n",
      "[18.9354797, 72.8271741] [18.9463212, 72.8271777]\n",
      "1.2\n",
      "{'nodes': {'CST', 'Churchgate', 'Dadar', 'Borivali'}, 'edges': {'Churchgate': [('Dadar', 9.42), ('CST', 1.2)], 'Dadar': [('Churchgate', 9.42)], 'CST': [('Churchgate', 1.2)], 'Borivali': []}}\n",
      "[19.019282, 72.8428757] [19.229068, 72.8573628]\n",
      "23.27\n",
      "{'nodes': {'CST', 'Churchgate', 'Dadar', 'Borivali'}, 'edges': {'Churchgate': [('Dadar', 9.42), ('CST', 1.2)], 'Dadar': [('Churchgate', 9.42), ('Borivali', 23.27)], 'CST': [('Churchgate', 1.2)], 'Borivali': [('Dadar', 23.27)]}}\n",
      "[18.9463212, 72.8271777] [19.229068, 72.8573628]\n",
      "31.46\n"
     ]
    },
    {
     "data": {
      "text/plain": [
       "['Churchgate', 'CST', 'Borivali']"
      ]
     },
     "execution_count": 2,
     "metadata": {},
     "output_type": "execute_result"
    }
   ],
   "source": [
    "from geopy.geocoders import Nominatim\n",
    "import geopy.distance\n",
    "\n",
    "geolocator = Nominatim(user_agent=\"DistanceCalculator\")\n",
    "\n",
    "def get_lat_long(city):\n",
    "    loc = geolocator.geocode(city+\", India\")\n",
    "    return [loc.latitude, loc.longitude]\n",
    "\n",
    "def calculateDistance(lat1,long1,lat2,long2):\n",
    "    return geopy.distance.geodesic((lat1,long1),(lat2,long2)).km\n",
    "\n",
    "graph = {\"nodes\": set(), \"edges\": {}}\n",
    "\n",
    "def add_locations(location1,location2):\n",
    "    if location1 not in graph[\"nodes\"]:\n",
    "        graph[\"nodes\"].add(location1)\n",
    "        graph[\"edges\"][location1] = []\n",
    "    if location2 not in graph[\"nodes\"]:\n",
    "        graph[\"nodes\"].add(location2)\n",
    "        graph[\"edges\"][location2] = []\n",
    "    print(graph)\n",
    "    position1 = get_lat_long(location1)\n",
    "    position2 = get_lat_long(location2)\n",
    "    print(position1, position2)\n",
    "    distance = round(calculateDistance(position1[0],position1[1],position2[0],position2[1]),2)\n",
    "    print(distance)\n",
    "    graph[\"edges\"][location1].append((location2,distance))\n",
    "    graph[\"edges\"][location2].append((location1,distance))\n",
    "\n",
    "def uniform_cost_search(start, goal):\n",
    "    priority_queue = [(0,start,[])]\n",
    "    while priority_queue:\n",
    "        (cost, current_location,path) = priority_queue.pop(0)\n",
    "        if current_location in path:\n",
    "            continue\n",
    "        path = path + [current_location]\n",
    "        if current_location ==goal:\n",
    "            return path\n",
    "        for (neighbour, distance) in graph[\"edges\"][current_location]:\n",
    "            priority_queue.append((cost+distance, neighbour, path))\n",
    "    \n",
    "        priority_queue.sort()\n",
    "    return \"Failure\"\n",
    "\n",
    "add_locations(\"Churchgate\",\"Dadar\")\n",
    "add_locations(\"Churchgate\",\"CST\")\n",
    "add_locations(\"Dadar\",\"Borivali\")\n",
    "add_locations(\"CST\",\"Borivali\")\n",
    "uniform_cost_search(\"Churchgate\",\"Borivali\")"
   ]
  }
 ],
 "metadata": {
  "kernelspec": {
   "display_name": "Python 3 (ipykernel)",
   "language": "python",
   "name": "python3"
  },
  "language_info": {
   "codemirror_mode": {
    "name": "ipython",
    "version": 3
   },
   "file_extension": ".py",
   "mimetype": "text/x-python",
   "name": "python",
   "nbconvert_exporter": "python",
   "pygments_lexer": "ipython3",
   "version": "3.9.12"
  }
 },
 "nbformat": 4,
 "nbformat_minor": 5
}
