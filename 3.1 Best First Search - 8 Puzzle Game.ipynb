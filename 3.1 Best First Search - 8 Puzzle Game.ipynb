{
 "cells": [
  {
   "cell_type": "code",
   "execution_count": 1,
   "id": "316c3a33",
   "metadata": {},
   "outputs": [
    {
     "name": "stdout",
     "output_type": "stream",
     "text": [
      "1 | 2 | 3 | \n",
      "0 | 5 | 6 | \n",
      "4 | 7 | 8 | \n",
      "The heuristic value:  3\n",
      "1 | 2 | 3 | \n",
      "4 | 5 | 6 | \n",
      "0 | 7 | 8 | \n",
      "The heuristic value:  2\n",
      "1 | 2 | 3 | \n",
      "4 | 5 | 6 | \n",
      "7 | 0 | 8 | \n",
      "The heuristic value:  1\n",
      "1 | 2 | 3 | \n",
      "4 | 5 | 6 | \n",
      "7 | 8 | 0 | \n",
      "The heuristic value:  0\n",
      "puzzle solved!\n"
     ]
    },
    {
     "data": {
      "text/plain": [
       "True"
      ]
     },
     "execution_count": 1,
     "metadata": {},
     "output_type": "execute_result"
    }
   ],
   "source": [
    "import heapq\n",
    "import copy\n",
    "\n",
    "#Displaying the 8 puzzle:\n",
    "def print_puzzle(state):\n",
    "    for i in range(3):\n",
    "        for j in range(3):\n",
    "            print(state[i][j],\"|\",end = \" \")\n",
    "        print()\n",
    "\n",
    "        # counting misplaced value\n",
    "def heuristic(current_state, goal_state):\n",
    "    sum = 0\n",
    "    for i in range(3):\n",
    "        for j in range(3):\n",
    "            if current_state[i][j]!=0 and current_state[i][j]!=goal_state[i][j]:\n",
    "                sum +=1\n",
    "    return sum\n",
    "\n",
    "# get neighbors\n",
    "def get_neighbors(state):\n",
    "    neighbors = []\n",
    "    #get_blanktile:\n",
    "    for i in range(3):\n",
    "        for j in range(3):\n",
    "            if state[i][j]==0:\n",
    "                row, col = i, j\n",
    "    for dr, dc in [(1, 0), (-1, 0), (0, 1), (0, -1)]:\n",
    "        new_row, new_col = row + dr, col + dc\n",
    "        if 0 <= new_row < 3 and 0 <= new_col < 3:\n",
    "            new_state = copy.deepcopy(state)\n",
    "            new_state[row][col],new_state[new_row][new_col] = new_state[new_row][new_col],new_state[row][col]\n",
    "            neighbors.append(new_state)\n",
    "    return neighbors\n",
    "\n",
    "# best_first_search algorithm\n",
    "def best_first_search(initial_state, goal_state):\n",
    "    start_node = initial_state\n",
    "    goal_node = goal_state\n",
    "    priority_queue = [(heuristic(initial_state, goal_state), start_node)]\n",
    "    while priority_queue:\n",
    "        h_value, current_node = heapq.heappop(priority_queue)\n",
    "        print_puzzle(current_node)\n",
    "        print(\"The heuristic value: \", h_value)\n",
    "        if (current_node == goal_state):\n",
    "            print(\"puzzle solved!\")\n",
    "            return True\n",
    "        for neighbor_state in get_neighbors(current_node):\n",
    "            heapq.heappush(priority_queue,(heuristic(neighbor_state, goal_state), neighbor_state))\n",
    "    return \"Failure\"\n",
    "\n",
    "start = [[1,2,3],\n",
    "         [0,5,6],\n",
    "         [4,7,8]]\n",
    "\n",
    "goal = [[1,2,3],\n",
    "        [4,5,6],\n",
    "        [7,8,0]]\n",
    "\n",
    "best_first_search(start,goal)"
   ]
  }
 ],
 "metadata": {
  "kernelspec": {
   "display_name": "Python 3 (ipykernel)",
   "language": "python",
   "name": "python3"
  },
  "language_info": {
   "codemirror_mode": {
    "name": "ipython",
    "version": 3
   },
   "file_extension": ".py",
   "mimetype": "text/x-python",
   "name": "python",
   "nbconvert_exporter": "python",
   "pygments_lexer": "ipython3",
   "version": "3.9.12"
  }
 },
 "nbformat": 4,
 "nbformat_minor": 5
}
