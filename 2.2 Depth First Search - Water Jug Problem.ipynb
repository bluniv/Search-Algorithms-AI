{
 "cells": [
  {
   "cell_type": "code",
   "execution_count": 1,
   "id": "a7eeeedd",
   "metadata": {},
   "outputs": [
    {
     "name": "stdout",
     "output_type": "stream",
     "text": [
      "Current State :  (0, 0)\n",
      "Current State :  (0, 3)\n",
      "Current State :  (0, 0)\n",
      "Current State :  (3, 0)\n",
      "Current State :  (0, 0)\n",
      "Current State :  (0, 3)\n",
      "Current State :  (3, 3)\n",
      "Current State :  (3, 0)\n",
      "Current State :  (0, 3)\n",
      "Current State :  (4, 2)\n",
      "Success\n"
     ]
    },
    {
     "data": {
      "text/plain": [
       "True"
      ]
     },
     "execution_count": 1,
     "metadata": {},
     "output_type": "execute_result"
    }
   ],
   "source": [
    "from collections import deque\n",
    "\n",
    "def DFS_SEARCH(cap1, cap2, target):\n",
    "    closed = set()\n",
    "    open = deque()\n",
    "    open.append((0,0))\n",
    "    while(len(open)!=0):\n",
    "        current_state = open.pop()\n",
    "        print(\"Current State : \", current_state)\n",
    "        if current_state in closed:\n",
    "            continue\n",
    "        closed.add(current_state)\n",
    "        x,y = current_state\n",
    "        if x==target or y==target:\n",
    "            print(\"Success\")\n",
    "            return True\n",
    "        #Fill in 1st jug\n",
    "        if x<cap1:\n",
    "            open.append((cap1,y))\n",
    "        #Fill in 2nd jug\n",
    "        if y<cap2:\n",
    "            open.append((x,cap2))\n",
    "        #Pour from 1 to 2\n",
    "        if x+y>=cap2 and x>0:\n",
    "            a = min(cap1, cap2-y)\n",
    "            open.append((x-a,y+a))\n",
    "        #Pour from 2 to 1\n",
    "        if x+y>=cap2 and y>0:\n",
    "            a = min(cap2, cap1-x)\n",
    "            open.append((x+a,y-a))\n",
    "        #Empty 1st jug\n",
    "        if x>0:\n",
    "            open.append((0,y))\n",
    "        #Empty 2nd jug\n",
    "        if y>0:\n",
    "            open.append((x,0))\n",
    "    return \"Failure\"\n",
    "DFS_SEARCH(4,3,2)"
   ]
  }
 ],
 "metadata": {
  "kernelspec": {
   "display_name": "Python 3 (ipykernel)",
   "language": "python",
   "name": "python3"
  },
  "language_info": {
   "codemirror_mode": {
    "name": "ipython",
    "version": 3
   },
   "file_extension": ".py",
   "mimetype": "text/x-python",
   "name": "python",
   "nbconvert_exporter": "python",
   "pygments_lexer": "ipython3",
   "version": "3.9.12"
  }
 },
 "nbformat": 4,
 "nbformat_minor": 5
}
