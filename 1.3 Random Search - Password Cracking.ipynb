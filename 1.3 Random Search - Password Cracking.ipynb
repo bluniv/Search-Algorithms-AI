{
 "cells": [
  {
   "cell_type": "code",
   "execution_count": 2,
   "id": "6e5fc02f",
   "metadata": {},
   "outputs": [
    {
     "name": "stdout",
     "output_type": "stream",
     "text": [
      "Password cracked: DS\n",
      "Attempts: 129\n"
     ]
    }
   ],
   "source": [
    "import random\n",
    "import string\n",
    "\n",
    "def generate_possible_passwords(length):\n",
    "    characters = string.ascii_letters + string.digits + string.punctuation # Consider all characters\n",
    "    password = ''.join(random.choice(characters) for _ in range(length))\n",
    "    return password\n",
    "\n",
    "def crack_password(target_password):\n",
    "    attempts = 0\n",
    "    while True:\n",
    "        attempts += 1\n",
    "        guess = generate_possible_passwords(len(target_password))\n",
    "        if guess == target_password:\n",
    "            print(\"Password cracked:\", guess)\n",
    "            print(\"Attempts:\", attempts)\n",
    "            break\n",
    "            \n",
    "target_password = \"DS\" # Replace with the actual password to crack\n",
    "crack_password(target_password)"
   ]
  }
 ],
 "metadata": {
  "kernelspec": {
   "display_name": "Python 3 (ipykernel)",
   "language": "python",
   "name": "python3"
  },
  "language_info": {
   "codemirror_mode": {
    "name": "ipython",
    "version": 3
   },
   "file_extension": ".py",
   "mimetype": "text/x-python",
   "name": "python",
   "nbconvert_exporter": "python",
   "pygments_lexer": "ipython3",
   "version": "3.9.12"
  }
 },
 "nbformat": 4,
 "nbformat_minor": 5
}
