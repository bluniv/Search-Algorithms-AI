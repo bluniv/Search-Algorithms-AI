{
 "cells": [
  {
   "cell_type": "code",
   "execution_count": 1,
   "id": "35675075",
   "metadata": {},
   "outputs": [
    {
     "name": "stdout",
     "output_type": "stream",
     "text": [
      "Solved Board:\n",
      "[1, 2, 3]\n",
      "[8, 0, 4]\n",
      "[7, 6, 5]\n",
      "Number of moves: 89881\n"
     ]
    }
   ],
   "source": [
    "import random\n",
    "\n",
    "def print_board(board): # Display the board    \n",
    "    for row in board:\n",
    "        print(row)\n",
    "\n",
    "def find_blank_tile(board): # Finding the blank spaces\n",
    "    for i in range(3):\n",
    "        for j in range(3):\n",
    "            if board[i][j] == 0:\n",
    "                return i, j\n",
    "            \n",
    "def is_goal_state(board, goal_state): # Check for the goal state\n",
    "    return board == goal_state\n",
    "\n",
    "def move_blank_tile(board, direction): # Defining the actions\n",
    "    i, j = find_blank_tile(board)\n",
    "    if direction == 'up' and i > 0:\n",
    "        board[i][j], board[i - 1][j] = board[i - 1][j], board[i][j]\n",
    "        return True\n",
    "    elif direction == 'down' and i < 2:\n",
    "        board[i][j], board[i + 1][j] = board[i + 1][j], board[i][j]\n",
    "        return True\n",
    "    elif direction == 'left' and j > 0:\n",
    "        board[i][j], board[i][j - 1] = board[i][j - 1], board[i][j]\n",
    "        return True\n",
    "    elif direction == 'right' and j < 2:\n",
    "        board[i][j], board[i][j + 1] = board[i][j + 1], board[i][j]\n",
    "        return True\n",
    "    else:\n",
    "        return False\n",
    "\n",
    "def random_search(initial_board, goal_state): # Solve the 8-puzzle using random search\n",
    "    current_board = initial_board\n",
    "    num_moves = 0\n",
    "    while not is_goal_state(current_board, goal_state):\n",
    "        directions = ['up', 'down', 'left', 'right']\n",
    "        random_direction = random.choice(directions)\n",
    "        if move_blank_tile(current_board, random_direction):\n",
    "            num_moves += 1\n",
    "        if is_goal_state(current_board, goal_state):\n",
    "            return current_board, num_moves\n",
    "\n",
    "initial_board = [[2, 8, 3], [1, 6, 4], [7, 0, 5]]\n",
    "goal_state = [[1, 2, 3], [8, 0, 4], [7, 6, 5]]\n",
    "solved_board, num_moves = random_search(initial_board, goal_state)\n",
    "print(\"Solved Board:\")\n",
    "print_board(solved_board)\n",
    "print(\"Number of moves:\", num_moves)"
   ]
  }
 ],
 "metadata": {
  "kernelspec": {
   "display_name": "Python 3 (ipykernel)",
   "language": "python",
   "name": "python3"
  },
  "language_info": {
   "codemirror_mode": {
    "name": "ipython",
    "version": 3
   },
   "file_extension": ".py",
   "mimetype": "text/x-python",
   "name": "python",
   "nbconvert_exporter": "python",
   "pygments_lexer": "ipython3",
   "version": "3.9.12"
  }
 },
 "nbformat": 4,
 "nbformat_minor": 5
}
