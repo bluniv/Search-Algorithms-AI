{
 "cells": [
  {
   "cell_type": "code",
   "execution_count": 2,
   "id": "680967cf",
   "metadata": {},
   "outputs": [
    {
     "name": "stdout",
     "output_type": "stream",
     "text": [
      "Minimum found at x = 1.266852839763363\n",
      "Minimum value = -0.12443196358382069\n"
     ]
    }
   ],
   "source": [
    "import random\n",
    "\n",
    "def quadratic_function(x): # finding the value of the function\n",
    "    return 2 * x**2 - 5 * x + 3\n",
    "\n",
    "def find_minimum_random_search(max_iterations=1000): #Finding the minimum\n",
    "    best_x = None\n",
    "    best_value = float('inf') # Initialize with positive infinity\n",
    "    for _ in range(max_iterations):\n",
    "        x = random.uniform(-10, 10)\n",
    "        value = quadratic_function(x)\n",
    "        if value < best_value:\n",
    "            best_x = x\n",
    "            best_value = value\n",
    "    \n",
    "    return best_x, best_value\n",
    "\n",
    "minimum_x, minimum_value = find_minimum_random_search()\n",
    "print(\"Minimum found at x =\", minimum_x)\n",
    "print(\"Minimum value =\", minimum_value)"
   ]
  }
 ],
 "metadata": {
  "kernelspec": {
   "display_name": "Python 3 (ipykernel)",
   "language": "python",
   "name": "python3"
  },
  "language_info": {
   "codemirror_mode": {
    "name": "ipython",
    "version": 3
   },
   "file_extension": ".py",
   "mimetype": "text/x-python",
   "name": "python",
   "nbconvert_exporter": "python",
   "pygments_lexer": "ipython3",
   "version": "3.9.12"
  }
 },
 "nbformat": 4,
 "nbformat_minor": 5
}
